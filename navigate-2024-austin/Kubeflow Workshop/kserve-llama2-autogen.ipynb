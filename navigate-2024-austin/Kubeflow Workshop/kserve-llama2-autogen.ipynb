{
 "cells": [
  {
   "cell_type": "markdown",
   "metadata": {},
   "source": [
    "# Set up the enviroment"
   ]
  },
  {
   "cell_type": "code",
   "execution_count": 1,
   "metadata": {},
   "outputs": [],
   "source": [
    "%%capture --no-stderr\n",
    "%pip install \"pyautogen>=0.2.3\"\n",
    "%pip install -q kserve"
   ]
  },
  {
   "cell_type": "code",
   "execution_count": 2,
   "metadata": {},
   "outputs": [
    {
     "name": "stderr",
     "output_type": "stream",
     "text": [
      "/opt/conda/lib/python3.8/site-packages/tqdm/auto.py:21: TqdmWarning: IProgress not found. Please update jupyter and ipywidgets. See https://ipywidgets.readthedocs.io/en/stable/user_install.html\n",
      "  from .autonotebook import tqdm as notebook_tqdm\n"
     ]
    }
   ],
   "source": [
    "# Imports\n",
    "import os\n",
    "import autogen\n",
    "from kserve import KServeClient\n",
    "from kserve import utils"
   ]
  },
  {
   "cell_type": "markdown",
   "metadata": {},
   "source": [
    "# Parameters and Config"
   ]
  },
  {
   "cell_type": "code",
   "execution_count": 3,
   "metadata": {},
   "outputs": [],
   "source": [
    "# Kubeflow\n",
    "MODEL_NAME = \"llama2\" # specify the model name in kserve\n",
    "namespace = utils.get_default_target_namespace() # automatically retrieve your KfaaS Namespace\n",
    "\n",
    "# enviroment variables\n",
    "os.environ[\"FORCED_API_KEY\"] = \"null\" # force an API key for OpenAI API\n",
    "os.environ[\"AUTOGEN_USE_DOCKER\"] = \"0\" # don't launch agents in docker containers"
   ]
  },
  {
   "cell_type": "markdown",
   "metadata": {},
   "source": [
    "# Define your model"
   ]
  },
  {
   "cell_type": "code",
   "execution_count": 4,
   "metadata": {},
   "outputs": [
    {
     "name": "stdout",
     "output_type": "stream",
     "text": [
      "NAME    READY      PREV    LATEST  URL\n",
      "llama2  True          0       100  http://llama2.my-profile.svc.cluster.local\n",
      "None\n",
      "Kserve Endpoint: http://llama2.my-profile.svc.cluster.local/v1\n"
     ]
    }
   ],
   "source": [
    "import json\n",
    "# initalise the kserve client\n",
    "KServe = KServeClient()\n",
    "\n",
    "print(KServe.get(MODEL_NAME, namespace=namespace, watch=True, timeout_seconds=120))\n",
    "\n",
    "# get the \"Llama2 model from KServe\"\n",
    "isvc_resp = KServe.get(MODEL_NAME, namespace=namespace)\n",
    "\n",
    "# get the model internal URL\n",
    "isvc_url = isvc_resp[\"status\"][\"address\"][\"url\"]\n",
    "\n",
    "# create the OpenAI API endpoint for AutoGen\n",
    "isvc_url = isvc_url.split(\"/v1/models/\")[0] + \"/v1\"\n",
    "\n",
    "print(f\"Kserve Endpoint: {isvc_url}\")"
   ]
  },
  {
   "cell_type": "code",
   "execution_count": null,
   "metadata": {},
   "outputs": [
    {
     "name": "stderr",
     "output_type": "stream",
     "text": [
      "WARNING:root:The specified .env file .env does not exist.\n",
      "WARNING:root:API key not found or empty for model gpt-4. Please ensure path to .env file is correct.\n",
      "WARNING:root:API key not found or empty for model gpt-3.5-turbo. Please ensure path to .env file is correct.\n",
      "INFO:root:Models available: ['llama2']\n"
     ]
    },
    {
     "data": {
      "text/plain": [
       "[{'api_key': 'null',\n",
       "  'base_url': 'http://llama2.my-profile.svc.cluster.local/v1',\n",
       "  'model': 'llama2'}]"
      ]
     },
     "execution_count": 5,
     "metadata": {},
     "output_type": "execute_result"
    }
   ],
   "source": [
    "# load the config list from enviroment variables\n",
    "config_list = autogen.config_list_from_dotenv(\n",
    "    dotenv_file_path='.env',\n",
    "    model_api_key_map={\n",
    "        MODEL_NAME: {\n",
    "            \"api_key_env_var\": \"FORCED_API_KEY\",\n",
    "            \"base_url\": isvc_url\n",
    "        }\n",
    "    },\n",
    "    filter_dict={\n",
    "        \"model\": {\n",
    "           MODEL_NAME,\n",
    "        }\n",
    "    }\n",
    ")\n",
    "\n",
    "config_list"
   ]
  },
  {
   "cell_type": "markdown",
   "metadata": {},
   "source": [
    "# Configure your agents\n"
   ]
  },
  {
   "cell_type": "code",
   "execution_count": 6,
   "metadata": {},
   "outputs": [],
   "source": [
    "# gpt_config = {\n",
    "#     \"cache_seed\": 42,  # change the cache_seed for different trials\n",
    "#     \"temperature\": 0, # set the forced prompt temp to 0\n",
    "#     \"config_list\": config_list, # load the config from above\n",
    "#     \"timeout\": 120, # set timeout to 120 seconds\n",
    "# }\n",
    "\n",
    "# user_proxy = autogen.UserProxyAgent(\n",
    "#    name=\"Admin\",\n",
    "#    system_message=\"A human admin. Interact with the planner to discuss the plan. Plan execution needs to be approved by this admin.\",\n",
    "#    code_execution_config=False,\n",
    "# )\n",
    "# engineer = autogen.AssistantAgent(\n",
    "#     name=\"Engineer\",\n",
    "#     llm_config=gpt_config,\n",
    "#     system_message='''Engineer. You follow an approved plan. You write python/shell code to solve tasks. Wrap the code in a code block that specifies the script type. The user can't modify your code. So do not suggest incomplete code which requires others to modify. Don't use a code block if it's not intended to be executed by the executor.\n",
    "# Don't include multiple code blocks in one response. Do not ask others to copy and paste the result. Check the execution result returned by the executor.\n",
    "# If the result indicates there is an error, fix the error and output the code again. Suggest the full code instead of partial code or code changes. If the error can't be fixed or if the task is not solved even after the code is executed successfully, analyze the problem, revisit your assumption, collect additional info you need, and think of a different approach to try.\n",
    "# ''',\n",
    "# )\n",
    "# scientist = autogen.AssistantAgent(\n",
    "#     name=\"Scientist\",\n",
    "#     llm_config=gpt_config,\n",
    "#     system_message=\"\"\"Scientist. You follow an approved plan. You are able to categorize papers after seeing their abstracts printed. You don't write code.\"\"\"\n",
    "# )\n",
    "# planner = autogen.AssistantAgent(\n",
    "#     name=\"Planner\",\n",
    "#     system_message='''Planner. Suggest a plan. Revise the plan based on feedback from admin and critic, until admin approval.\n",
    "# The plan may involve an engineer who can write code and a scientist who doesn't write code.\n",
    "# Explain the plan first. Be clear which step is performed by an engineer, and which step is performed by a scientist.\n",
    "# ''',\n",
    "#     llm_config=gpt_config,\n",
    "# )\n",
    "# executor = autogen.UserProxyAgent(\n",
    "#     name=\"Executor\",\n",
    "#     system_message=\"Executor. Execute the code written by the engineer and report the result.\",\n",
    "#     human_input_mode=\"NEVER\",\n",
    "#     code_execution_config={\"last_n_messages\": 3, \"work_dir\": \"paper\"},\n",
    "# )\n",
    "# critic = autogen.AssistantAgent(\n",
    "#     name=\"Critic\",\n",
    "#     system_message=\"Critic. Double check plan, claims, code from other agents and provide feedback. Check whether the plan includes adding verifiable info such as source URL.\",\n",
    "#     llm_config=gpt_config,\n",
    "# )\n",
    "\n",
    "# groupchat = autogen.GroupChat(agents=[user_proxy, engineer, scientist, planner, executor, critic], messages=[], max_round=50)\n",
    "# manager = autogen.GroupChatManager(groupchat=groupchat, llm_config=gpt_config)"
   ]
  },
  {
   "cell_type": "markdown",
   "metadata": {},
   "source": [
    "# Begin Group Chat\n"
   ]
  },
  {
   "cell_type": "code",
   "execution_count": 7,
   "metadata": {},
   "outputs": [],
   "source": [
    "# user_proxy.initiate_chat(\n",
    "#     manager,\n",
    "#     message=\"\"\"\n",
    "# find papers on LLM applications from arxiv in the last week, create a markdown table of different domains.\n",
    "# \"\"\",\n",
    "# )"
   ]
  },
  {
   "cell_type": "code",
   "execution_count": 9,
   "metadata": {},
   "outputs": [
    {
     "name": "stdout",
     "output_type": "stream",
     "text": [
      "\u001b[33mmathproxyagent\u001b[0m (to assistant):\n",
      "\n",
      "Let's use Python to solve a math problem.\n",
      "\n",
      "Query requirements:\n",
      "You should always use the 'print' function for the output and use fractions/radical forms instead of decimals.\n",
      "You can use packages like sympy to help you.\n",
      "You must follow the formats below to write your code:\n",
      "```python\n",
      "# your code\n",
      "```\n",
      "\n",
      "First state the key idea to solve the problem. You may choose from three ways to solve the problem:\n",
      "Case 1: If the problem can be solved with Python code directly, please write a program to solve it. You can enumerate all possible arrangements if needed.\n",
      "Case 2: If the problem is mostly reasoning, you can solve it by yourself directly.\n",
      "Case 3: If the problem cannot be handled in the above two ways, please follow this process:\n",
      "1. Solve the problem step by step (do not over-divide the steps).\n",
      "2. Take out any queries that can be asked through Python (for example, any calculations or equations that can be calculated).\n",
      "3. Wait for me to give the results.\n",
      "4. Continue if you think the result is correct. If the result is invalid or unexpected, please correct your query or reasoning.\n",
      "\n",
      "After all the queries are run and you get the answer, put the answer in \\boxed{}.\n",
      "\n",
      "Problem:\n",
      "Find all $x$ that satisfy the inequality $(2x+10)(x+3)<(3x+9)(x+8)$. Express your answer in interval notation.\n",
      "\n",
      "--------------------------------------------------------------------------------\n",
      "\u001b[33massistant\u001b[0m (to mathproxyagent):\n",
      "\n",
      "\n",
      "\n",
      "Please write your code to solve this problem.\n",
      "\n",
      "--------------------------------------------------------------------------------\n",
      "\u001b[33mmathproxyagent\u001b[0m (to assistant):\n",
      "\n",
      "Continue. Please keep solving the problem until you need to query. (If you get to the answer, put it in \\boxed{}.)\n",
      "\n",
      "--------------------------------------------------------------------------------\n",
      "\u001b[33massistant\u001b[0m (to mathproxyagent):\n",
      "\n",
      "\n",
      "\n",
      "--------------------------------------------------------------------------------\n",
      "\u001b[33mmathproxyagent\u001b[0m (to assistant):\n",
      "\n",
      "Continue. Please keep solving the problem until you need to query. (If you get to the answer, put it in \\boxed{}.)\n",
      "\n",
      "--------------------------------------------------------------------------------\n",
      "\u001b[33massistant\u001b[0m (to mathproxyagent):\n",
      "\n",
      "\n",
      "\n",
      "--------------------------------------------------------------------------------\n",
      "\u001b[33mmathproxyagent\u001b[0m (to assistant):\n",
      "\n",
      "Continue. Please keep solving the problem until you need to query. (If you get to the answer, put it in \\boxed{}.)\n",
      "\n",
      "--------------------------------------------------------------------------------\n",
      "\u001b[33massistant\u001b[0m (to mathproxyagent):\n",
      "\n",
      "\n",
      "\n",
      "--------------------------------------------------------------------------------\n",
      "\u001b[33mmathproxyagent\u001b[0m (to assistant):\n",
      "\n",
      "Continue. Please keep solving the problem until you need to query. (If you get to the answer, put it in \\boxed{}.)\n",
      "\n",
      "--------------------------------------------------------------------------------\n",
      "\u001b[33massistant\u001b[0m (to mathproxyagent):\n",
      "\n",
      "\n",
      "\n",
      "--------------------------------------------------------------------------------\n",
      "\u001b[33mmathproxyagent\u001b[0m (to assistant):\n",
      "\n",
      "Continue. Please keep solving the problem until you need to query. (If you get to the answer, put it in \\boxed{}.)\n",
      "\n",
      "--------------------------------------------------------------------------------\n"
     ]
    }
   ],
   "source": [
    "# 1. create an AssistantAgent instance named \"assistant\"\n",
    "from autogen.agentchat.contrib.math_user_proxy_agent import MathUserProxyAgent\n",
    "assistant = autogen.AssistantAgent(\n",
    "    name=\"assistant\",\n",
    "    system_message=\"You are a helpful assistant.\",\n",
    "    llm_config={\n",
    "        \"timeout\": 1600,\n",
    "        \"seed\": 42,\n",
    "        \"config_list\": config_list,\n",
    "    },\n",
    ")\n",
    "\n",
    "# 2. create the MathUserProxyAgent instance named \"mathproxyagent\"\n",
    "# By default, the human_input_mode is \"NEVER\", which means the agent will not ask for human input.\n",
    "mathproxyagent = MathUserProxyAgent(\n",
    "    name=\"mathproxyagent\",\n",
    "    human_input_mode=\"NEVER\",\n",
    "    code_execution_config={\"use_docker\": False},\n",
    ")\n",
    "\n",
    "math_problem = (\n",
    "    \"Find all $x$ that satisfy the inequality $(2x+10)(x+3)<(3x+9)(x+8)$. Express your answer in interval notation.\"\n",
    ")\n",
    "\n",
    "mathproxyagent.initiate_chat(assistant, problem=math_problem)"
   ]
  }
 ],
 "metadata": {
  "interpreter": {
   "hash": "d4d1e4263499bec80672ea0156c357c1ee493ec2b1c70f0acce89fc37c4a6abe"
  },
  "kernelspec": {
   "display_name": "Python 3.8.10 ('base')",
   "language": "python",
   "name": "python3"
  },
  "language_info": {
   "codemirror_mode": {
    "name": "ipython",
    "version": 3
   },
   "file_extension": ".py",
   "mimetype": "text/x-python",
   "name": "python",
   "nbconvert_exporter": "python",
   "pygments_lexer": "ipython3",
   "version": "3.8.10"
  },
  "orig_nbformat": 4
 },
 "nbformat": 4,
 "nbformat_minor": 2
}
