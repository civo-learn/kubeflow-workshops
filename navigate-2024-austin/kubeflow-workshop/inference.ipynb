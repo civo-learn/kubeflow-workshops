{
 "cells": [
  {
   "cell_type": "code",
   "execution_count": 1,
   "metadata": {},
   "outputs": [
    {
     "name": "stdout",
     "output_type": "stream",
     "text": [
      "['{\"created\": \"2024-02-14 20:33:25.540477\", \"model\": \"llama-2\", \"choices\": [{\"message\": {\"role\": \"system\", \"content\": \" First, you have 10 apples. You give 2 to the neighbor and 2 to the repairman, so now you have 10 - 2 - 2 = 6 apples left. Then, you go and buy 5 more apples, so now you have 6 + 5 = 11 apples. Finally, you eat 1 apple, so now you have 11 - 1 = 10 apples remaining.\\\\n\\\\nSo, to answer your question, you remained with 10 apples after all the actions you described.\"}, \"finish_reason\": \"stop\"}]}']\n"
     ]
    }
   ],
   "source": [
    "from openai import OpenAI\n",
    "import requests\n",
    "\n",
    "\n",
    "client = OpenAI(base_url = 'http://localhost:8000/v1', api_key=\"test\")\n",
    "response = client.chat.completions.create(\n",
    "  model=\"llama-2\",\n",
    "  messages=[\n",
    "    {\n",
    "      \"role\": \"system\",\n",
    "      \"content\": \"Hey, you are a smart LLM called Llama 2.\"\n",
    "    },\n",
    "    {\n",
    "      \"role\": \"user\",\n",
    "      \"content\": \"I went to the market and bought 10 apples. I gave 2 apples to the neighbor and 2 to the repairman. I then went and bought 5 more apples and ate 1. How many apples did I remain with?\\n\\nLet's think step by step.\"\n",
    "    }\n",
    "  ],\n",
    "  temperature=1,\n",
    "  max_tokens=256,\n",
    "  top_p=1,\n",
    "  frequency_penalty=0,\n",
    "  presence_penalty=0\n",
    ")\n",
    "print(response)"
   ]
  },
  {
   "cell_type": "code",
   "execution_count": 9,
   "metadata": {},
   "outputs": [
    {
     "data": {
      "text/plain": [
       "\", in a far-off land, there was a beautiful princess named Rose.lazar. She lived in a magnificent castle with her parents, the king and queen, and their subjects. But despite her privileged life, Princess Rose felt unfulfilled and restless, longing for adventure and purpose beyond the castle walls.\\nOne day, an old wise man came to the castle seeking an audience with the princess. He introduced himself as a magical alchemist who claimed he could transform any substance into gold. The king and queen were skeptical of the alchemist's claims, but Princess Rose was intrigued and decided to hear him out.\\nThe alchemist presented his case with great passion and conviction, explaining how he had spent years studying the ancient art of transmutation and had finally discovered the secret to turning base metals into gold. He offered to prove his powers by transforming a small amount of lead into gold before Princess Rose's very eyes.\\nPrincess Rose was amazed and asked if she could try to help him with his work. The alchemist agreed, and together they set up a laboratory in the castle where they could conduct their experiments.\\nAs they worked tirelessly day and night, Princess Rose discovered that the alchemist's claims were true. She watched in amazement as he transformed lead into gold before her very eyes. But despite their successes, the princess couldn't shake off the feeling that something was not quite right.\\nOne night, as they worked late in the laboratory, Princess Rose confronted the alchemist about his true intentions. She had discovered a hidden compartment in his laboratory filled with gold coins, far more than he could have possibly earned through his supposed transmutation abilities. The alchemist confessed that he was not an alchemist at all but a treasure hunter seeking to uncover the hidden riches of the kingdom.\\nPrincess Rose was shocked and heartbroken by the alchemist's deception, but she refused to give up on her dream of adventure and purpose. She decided to take matters into her own hands and set out on a journey to discover her true calling in life.\\nWith determination in her heart, Princess Rose left the castle and embarked on a quest to find her place in the world. Along the way, she encountered many challenges and obstacles but never lost sight of her goal. She discovered hidden strengths and talents within herself that she never knew existed and found joy and fulfillment in helping others.\\nIn the end, Princess Rose realized that true adventure and purpose lay not in transforming lead into gold but in discovering one's true self and using those gifts to make a positive impact on the world. She returned to the castle a wiser and more confident young woman, ready to take her rightful place as the future queen of the kingdom.\\nThe story of Princess Rose teaches us that true fulfillment and purpose come from within ourselves and cannot be found through external means alone. It also highlights the importance of perseverance and determination in pursuing our dreams and goals, even when faced with obstacles and challenges along the way.\""
      ]
     },
     "execution_count": 9,
     "metadata": {},
     "output_type": "execute_result"
    }
   ],
   "source": [
    "data = {'model': 'llama-2', 'prompt': 'Once upon a time'}\n",
    "requests.post(\"http://localhost:8000/v1/completions\", json=data).json()"
   ]
  },
  {
   "cell_type": "code",
   "execution_count": 10,
   "metadata": {},
   "outputs": [],
   "source": [
    "data = {\"model\": \"llama-2\",\n",
    "  \"messages\": [\n",
    "    {\n",
    "      \"role\": \"system\",\n",
    "      \"content\": \"Hey, you are a smart LLM called Llama 2.\"\n",
    "    },\n",
    "    {\n",
    "      \"role\": \"user\",\n",
    "      \"content\": \"I went to the market and bought 10 apples. I gave 2 apples to the neighbor and 2 to the repairman. I then went and bought 5 more apples and ate 1. How many apples did I remain with?\\n\\nLet's think step by step.\"\n",
    "    }\n",
    "  ],\n",
    "  \"temperature\": 1,\n",
    "  \"max_tokens\": 256,\n",
    "  \"top_p\": 1,\n",
    "  \"frequency_penalty\": 0,\n",
    "  \"presence_penalty\": 0}\n",
    "response = requests.post(\"http://localhost:8000/v1/chat/completions\", json=data)"
   ]
  },
  {
   "cell_type": "code",
   "execution_count": 12,
   "metadata": {},
   "outputs": [
    {
     "data": {
      "text/plain": [
       "{'created': '2024-02-14 20:38:04.458145',\n",
       " 'model': 'llama-2',\n",
       " 'choices': [{'message': {'role': 'system',\n",
       "    'content': ' First, you have 10 apples. You give 2 to the neighbor and 2 to the repairman, so now you have 10 - 2 - 2 = 6 apples left. Then, you go buy 5 more apples, so now you have 6 + 5 = 11 apples. Finally, you eat 1 apple, so now you have 11 - 1 = 10 apples remaining.\\n\\nSo, to answer your question, you remained with 10 apples after all of these actions.'},\n",
       "   'finish_reason': 'stop'}]}"
      ]
     },
     "execution_count": 12,
     "metadata": {},
     "output_type": "execute_result"
    }
   ],
   "source": [
    "response.json()"
   ]
  },
  {
   "cell_type": "code",
   "execution_count": null,
   "metadata": {},
   "outputs": [],
   "source": []
  }
 ],
 "metadata": {
  "kernelspec": {
   "display_name": "venv",
   "language": "python",
   "name": "python3"
  },
  "language_info": {
   "codemirror_mode": {
    "name": "ipython",
    "version": 3
   },
   "file_extension": ".py",
   "mimetype": "text/x-python",
   "name": "python",
   "nbconvert_exporter": "python",
   "pygments_lexer": "ipython3",
   "version": "3.10.12"
  }
 },
 "nbformat": 4,
 "nbformat_minor": 2
}
